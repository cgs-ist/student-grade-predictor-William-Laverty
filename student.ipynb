{
 "cells": [
  {
   "cell_type": "markdown",
   "metadata": {},
   "source": [
    "# Student Grade Predictor using Linear Regression\n",
    "\n",
    "This is a machine learning algorithm for predicting student performance using the Linear Regression technique. The goal of this program is to forecast the final grades of students based on their academic performance and other related factors.\n",
    "\n",
    "## Overview\n",
    "\n",
    "In this algorithm, we use the \"student-mat.csv\" dataset, which is part of the [UCI Machine Learning Repository](https://archive.ics.uci.edu/ml/datasets/Student+Performance). The dataset contains information about student performance in mathematics. The features include attributes such as first-period grade, second-period grade, weekly study time, school type, family size, parent's occupation, and more.\n",
    "\n",
    "## Task List\n",
    "\n",
    "Before running the code, make sure to complete the following tasks:\n",
    "\n",
    "- Download and install the required software, including Python and necessary libraries such as pandas, numpy, and sklearn.\n",
    "- Set up your GitHub account to participate in the algorithm or review assignment.\n",
    "\n",
    "## Steps Performed by the Code\n",
    "\n",
    "1. **Data Loading:** The code reads the \"student-mat.csv\" file, which contains the student performance data, using the pandas library. The data is loaded into a DataFrame for further processing.\n",
    "\n",
    "2. **Data Preprocessing:** The dataset may have missing values or categorical variables that need handling. The code preprocesses the data, converting categorical variables into numerical form using one-hot encoding. This transformation is necessary because most machine learning algorithms, including Linear Regression, require numerical inputs.\n",
    "\n",
    "3. **Data Splitting:** The data is split into training and testing sets using the `train_test_split()` function from sklearn. This ensures that the model is trained on a subset of the data and evaluated on unseen data to assess its generalization performance.\n",
    "\n",
    "4. **Model Training:** The Linear Regression model from sklearn is created and trained on the training data using the `fit()` method. The model aims to learn the relationships between the features and the target variable (final grade).\n",
    "\n",
    "5. **Model Evaluation:** After training, the model's performance is evaluated using the test data. Two common evaluation metrics used are Mean Squared Error (MSE) and R-squared (R2). MSE measures the average squared difference between the predicted and actual grades, while R2 indicates how well the model explains the variance in the target variable.\n",
    "\n",
    "6. **Example Prediction:** The code algorithmnstrates how to make predictions for a new student using the trained model. You can input the first-period grade, second-period grade, and weekly study time of a new student, and the model will predict their final grade (G3)."
   ]
  },
  {
   "cell_type": "code",
   "execution_count": 18,
   "metadata": {},
   "outputs": [
    {
     "name": "stdout",
     "output_type": "stream",
     "text": [
      "Mean Squared Error: 5.656642833231225\n",
      "R-squared: 0.7241341236974019\n",
      "Predicted Final Grade for the New Student: 13.92894133847506\n"
     ]
    }
   ],
   "source": [
    "import pandas as pd\n",
    "import numpy as np\n",
    "import sklearn\n",
    "from sklearn import linear_model\n",
    "from sklearn.model_selection import train_test_split\n",
    "from sklearn.metrics import mean_squared_error, r2_score\n",
    "\n",
    "# Load the dataset (assuming the dataset is in the same directory as this script)\n",
    "file_path = \"data/student-mat.csv\"\n",
    "data = pd.read_csv(file_path, sep=';')\n",
    "\n",
    "# Data preprocessing - handle missing values or categorical variables\n",
    "# For categorical variables, we'll use one-hot encoding\n",
    "\n",
    "# Convert categorical variables to one-hot encoding\n",
    "data = pd.get_dummies(data, columns=['school', 'sex', 'address', 'famsize', 'Pstatus',\n",
    "                                     'Mjob', 'Fjob', 'reason', 'guardian', 'schoolsup',\n",
    "                                     'famsup', 'paid', 'activities', 'nursery', 'higher',\n",
    "                                     'internet', 'romantic'], drop_first=True)\n",
    "\n",
    "# Select features and target variable\n",
    "features = data.drop(columns=['G3'])  # Features: all columns except 'G3' (final grade)\n",
    "target = data['G3']  # Target variable: 'G3' (final grade)\n",
    "\n",
    "# Split the data into training and testing sets\n",
    "X_train, X_test, y_train, y_test = train_test_split(features, target, test_size=0.2, random_state=42)\n",
    "\n",
    "# Create and train the Linear Regression model\n",
    "model = linear_model.LinearRegression()\n",
    "model.fit(X_train, y_train)\n",
    "\n",
    "# Make predictions on the test set\n",
    "y_pred = model.predict(X_test)\n",
    "\n",
    "# Evaluate the model\n",
    "mse = mean_squared_error(y_test, y_pred)\n",
    "r2 = r2_score(y_test, y_pred)\n",
    "\n",
    "print(\"Mean Squared Error:\", mse)\n",
    "print(\"R-squared:\", r2)\n",
    "\n",
    "# Now the model is trained and evaluated. You can use it to make predictions on new data.\n",
    "# For example, to predict the final grade (G3) for a new student, you can use the 'model.predict()' method.\n",
    "# Just make sure the input data has the same features as the original dataset (without the 'G3' column).\n",
    "\n",
    "# Example prediction:\n",
    "new_student_features = pd.DataFrame({\n",
    "    'G1': [12],      # First-period grade\n",
    "    'G2': [14],      # Second-period grade\n",
    "    'studytime': [3], # Weekly study time (hours)\n",
    "    # Include other relevant features here...\n",
    "})\n",
    "\n",
    "# Perform one-hot encoding for the new student data and align with training data\n",
    "new_student_features_encoded = pd.get_dummies(new_student_features, drop_first=True)\n",
    "new_student_features_encoded = new_student_features_encoded.align(features, join='right', axis=1, fill_value=0)[0]\n",
    "\n",
    "predicted_grade = model.predict(new_student_features_encoded)\n",
    "print(\"Predicted Final Grade for the New Student:\", predicted_grade[0])\n"
   ]
  }
 ],
 "metadata": {
  "kernelspec": {
   "display_name": "Python 3",
   "language": "python",
   "name": "python3"
  },
  "language_info": {
   "codemirror_mode": {
    "name": "ipython",
    "version": 3
   },
   "file_extension": ".py",
   "mimetype": "text/x-python",
   "name": "python",
   "nbconvert_exporter": "python",
   "pygments_lexer": "ipython3",
   "version": "3.11.3"
  },
  "orig_nbformat": 4
 },
 "nbformat": 4,
 "nbformat_minor": 2
}
