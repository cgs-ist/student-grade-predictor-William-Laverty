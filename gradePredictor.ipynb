{
 "cells": [
  {
   "cell_type": "markdown",
   "metadata": {},
   "source": [
    "# Student Grade Predictor using Linear Regression\n",
    "\n",
    "This is a machine learning algorithm for predicting student performance using the Linear Regression technique. The goal of this program is to forecast the final grades of students based on their academic performance and other related factors.\n",
    "\n",
    "## Overview\n",
    "\n",
    "In this algorithm, we use the \"student-mat.csv\" dataset, which is part of the [UCI Machine Learning Repository](https://archive.ics.uci.edu/ml/datasets/Student+Performance). The dataset contains information about student performance in mathematics. The features include attributes such as first-period grade, second-period grade, weekly study time, school type, family size, parent's occupation, and more.\n",
    "\n",
    "## Steps Performed by the Code\n",
    "\n",
    "1. **Data Loading:** The code reads the \"student-mat.csv\" file, which contains the student performance data, using the pandas library. The data is loaded into a DataFrame for further processing.\n",
    "\n",
    "2. **Data Preprocessing:** The dataset may have missing values or categorical variables that need handling. The code preprocesses the data, converting categorical variables into numerical form using one-hot encoding. This transformation is necessary because most machine learning algorithms, including Linear Regression, require numerical inputs.\n",
    "\n",
    "3. **Data Splitting:** The data is split into training and testing sets using the `train_test_split()` function from sklearn. This ensures that the model is trained on a subset of the data and evaluated on unseen data to assess its generalization performance.\n",
    "\n",
    "4. **Model Training:** The Linear Regression model from sklearn is created and trained on the training data using the `fit()` method. The model aims to learn the relationships between the features and the target variable (final grade).\n",
    "\n",
    "5. **Model Evaluation:** After training, the model's performance is evaluated using the test data. Two common evaluation metrics used are Mean Squared Error (MSE) and R-squared (R2). MSE measures the average squared difference between the predicted and actual grades, while R2 indicates how well the model explains the variance in the target variable.\n",
    "\n",
    "6. **Example Prediction:** The code algorithmnstrates how to make predictions for a new student using the trained model. You can input the first-period grade, second-period grade, and weekly study time of a new student, and the model will predict their final grade (G3)."
   ]
  },
  {
   "cell_type": "code",
   "execution_count": 1,
   "metadata": {},
   "outputs": [
    {
     "name": "stdout",
     "output_type": "stream",
     "text": [
      "Requirement already satisfied: pandas in /opt/homebrew/lib/python3.11/site-packages (2.0.3)\n",
      "Requirement already satisfied: python-dateutil>=2.8.2 in /Users/williamlaverty/Library/Python/3.11/lib/python/site-packages (from pandas) (2.8.2)\n",
      "Requirement already satisfied: pytz>=2020.1 in /opt/homebrew/lib/python3.11/site-packages (from pandas) (2023.3)\n",
      "Requirement already satisfied: tzdata>=2022.1 in /opt/homebrew/lib/python3.11/site-packages (from pandas) (2023.3)\n",
      "Requirement already satisfied: numpy>=1.21.0 in /opt/homebrew/lib/python3.11/site-packages (from pandas) (1.24.2)\n",
      "Requirement already satisfied: six>=1.5 in /opt/homebrew/lib/python3.11/site-packages (from python-dateutil>=2.8.2->pandas) (1.16.0)\n",
      "Requirement already satisfied: numpy in /opt/homebrew/lib/python3.11/site-packages (1.24.2)\n",
      "Requirement already satisfied: tk in /opt/homebrew/lib/python3.11/site-packages (0.1.0)\n",
      "Requirement already satisfied: scikit-learn in /opt/homebrew/lib/python3.11/site-packages (1.3.0)\n",
      "Requirement already satisfied: numpy>=1.17.3 in /opt/homebrew/lib/python3.11/site-packages (from scikit-learn) (1.24.2)\n",
      "Requirement already satisfied: scipy>=1.5.0 in /opt/homebrew/lib/python3.11/site-packages (from scikit-learn) (1.10.1)\n",
      "Requirement already satisfied: joblib>=1.1.1 in /opt/homebrew/lib/python3.11/site-packages (from scikit-learn) (1.3.1)\n",
      "Requirement already satisfied: threadpoolctl>=2.0.0 in /opt/homebrew/lib/python3.11/site-packages (from scikit-learn) (3.2.0)\n",
      "Requirement already satisfied: ttkthemes in /opt/homebrew/lib/python3.11/site-packages (3.2.2)\n",
      "Requirement already satisfied: pillow in /opt/homebrew/lib/python3.11/site-packages (from ttkthemes) (10.0.0)\n"
     ]
    }
   ],
   "source": [
    "# Install the required packages\n",
    "!pip install pandas\n",
    "!pip install numpy\n",
    "!pip install tk\n",
    "!pip install scikit-learn\n",
    "!pip install ttkthemes"
   ]
  },
  {
   "cell_type": "code",
   "execution_count": 2,
   "metadata": {},
   "outputs": [
    {
     "name": "stderr",
     "output_type": "stream",
     "text": [
      "2023-07-28 20:17:10.972 Python[75302:10736004] WARNING: Secure coding is not enabled for restorable state! Enable secure coding by implementing NSApplicationDelegate.applicationSupportsSecureRestorableState: and returning YES.\n"
     ]
    },
    {
     "name": "stdout",
     "output_type": "stream",
     "text": [
      "Predicted Final Grade for the New Student: -0.835295818157558\n"
     ]
    },
    {
     "ename": "",
     "evalue": "",
     "output_type": "error",
     "traceback": [
      "\u001b[1;31mCannot execute code, session has been disposed. Please try restarting the Kernel."
     ]
    },
    {
     "ename": "",
     "evalue": "",
     "output_type": "error",
     "traceback": [
      "\u001b[1;31mThe Kernel crashed while executing code in the the current cell or a previous cell. Please review the code in the cell(s) to identify a possible cause of the failure. Click <a href='https://aka.ms/vscodeJupyterKernelCrash'>here</a> for more info. View Jupyter <a href='command:jupyter.viewOutput'>log</a> for further details."
     ]
    }
   ],
   "source": [
    "import pandas as pd\n",
    "import numpy as np\n",
    "import tkinter as tk\n",
    "from tkinter import ttk\n",
    "from tkinter import messagebox\n",
    "from sklearn import linear_model\n",
    "from sklearn.model_selection import train_test_split\n",
    "from sklearn.metrics import mean_squared_error, r2_score\n",
    "from ttkthemes import ThemedStyle\n",
    "\n",
    "# Load the dataset (assuming the dataset is in the same directory as this script)\n",
    "file_path = \"data/student-mat.csv\"\n",
    "data = pd.read_csv(file_path, sep=';')\n",
    "\n",
    "# Data preprocessing - handle missing values or categorical variables\n",
    "# For categorical variables, we'll use one-hot encoding\n",
    "\n",
    "# Convert categorical variables to one-hot encoding\n",
    "data = pd.get_dummies(data, columns=['school', 'sex', 'address', 'famsize', 'Pstatus',\n",
    "                                     'Mjob', 'Fjob', 'reason', 'guardian', 'schoolsup',\n",
    "                                     'famsup', 'paid', 'activities', 'nursery', 'higher',\n",
    "                                     'internet', 'romantic'], drop_first=True)\n",
    "\n",
    "# Select features and target variable\n",
    "features = data.drop(columns=['G3'])  # Features: all columns except 'G3' (final grade)\n",
    "target = data['G3']  # Target variable: 'G3' (final grade)\n",
    "\n",
    "# Split the data into training and testing sets\n",
    "X_train, X_test, y_train, y_test = train_test_split(features, target, test_size=0.2, random_state=42)\n",
    "\n",
    "# Create and train the Linear Regression model\n",
    "model = linear_model.LinearRegression()\n",
    "model.fit(X_train, y_train)\n",
    "\n",
    "# Make predictions on the test set\n",
    "y_pred = model.predict(X_test)\n",
    "\n",
    "# Evaluate the model\n",
    "mse = mean_squared_error(y_test, y_pred)\n",
    "r2 = r2_score(y_test, y_pred)\n",
    "\n",
    "# Function to perform the prediction and display the result on the GUI\n",
    "def predict_grade():\n",
    "    def predict():\n",
    "        try:\n",
    "            G1_input = int(g1_entry.get())\n",
    "            G2_input = int(g2_entry.get())\n",
    "            study_time_input = int(studytime_entry.get())\n",
    "\n",
    "            new_student_features = pd.DataFrame({\n",
    "                'G1': [G1_input],      # First-period grade\n",
    "                'G2': [G2_input],      # Second-period grade\n",
    "                'studytime': [study_time_input], # Weekly study time (hours)\n",
    "            })\n",
    "\n",
    "            # Perform one-hot encoding for the new student data and align with training data\n",
    "            new_student_features_encoded = pd.get_dummies(new_student_features, drop_first=True)\n",
    "            new_student_features_encoded = new_student_features_encoded.align(features, join='right', axis=1, fill_value=0)[0]\n",
    "\n",
    "            predicted_grade = model.predict(new_student_features_encoded)\n",
    "\n",
    "            print(\"Predicted Final Grade for the New Student:\", predicted_grade[0])\n",
    "            predicted_label.config(text=f\"Predicted Final Grade: {predicted_grade[0]:.2f}\")\n",
    "        except ValueError:\n",
    "            print(\"Error: Please enter valid numeric values for G1, G2, and study time.\")\n",
    "            predicted_label.config(text=\"Please enter valid numeric values for G1, G2, and study time.\")\n",
    "\n",
    "    # Create the tkinter window\n",
    "    window = tk.Tk()\n",
    "    window.title(\"Student Grade Predictor\")\n",
    "\n",
    "    # Set a fixed window size\n",
    "    window.geometry(\"400x300\")  # Adjust the size as needed\n",
    "\n",
    "    # Apply a themed style to the window\n",
    "    style = ThemedStyle(window)\n",
    "    style.theme_use(\"arc\")  # You can change the theme here (try \"clam\", \"equilux\", etc.)\n",
    "\n",
    "    # Create and pack a description label\n",
    "    description_label = ttk.Label(window, text=\"Welcome to the Student Grade Predictor!\\n\"\n",
    "                                               \"Please enter the student's information below:\")\n",
    "    description_label.pack(pady=20)\n",
    "\n",
    "    # Create and pack input fields\n",
    "    g1_label = ttk.Label(window, text=\"G1 (first-period grade):\")\n",
    "    g1_label.pack()\n",
    "    g1_entry = ttk.Entry(window)\n",
    "    g1_entry.pack()\n",
    "\n",
    "    g2_label = ttk.Label(window, text=\"G2 (second-period grade):\")\n",
    "    g2_label.pack()\n",
    "    g2_entry = ttk.Entry(window)\n",
    "    g2_entry.pack()\n",
    "\n",
    "    studytime_label = ttk.Label(window, text=\"Weekly study time (hours):\")\n",
    "    studytime_label.pack()\n",
    "    studytime_entry = ttk.Entry(window)\n",
    "    studytime_entry.pack()\n",
    "\n",
    "    # Create and pack the Predict button\n",
    "    predict_button = ttk.Button(window, text=\"Predict\", command=predict)\n",
    "    predict_button.pack(pady=20)\n",
    "\n",
    "    # Create and pack the label to display the predicted grade\n",
    "    predicted_label = ttk.Label(window, text=\"\", background=style.lookup(\"TLabel\", \"background\"))\n",
    "    predicted_label.pack()\n",
    "\n",
    "    # Start the tkinter main loop\n",
    "    window.mainloop()\n",
    "\n",
    "# Call the function to predict grade\n",
    "predict_grade()\n"
   ]
  }
 ],
 "metadata": {
  "kernelspec": {
   "display_name": "Python 3",
   "language": "python",
   "name": "python3"
  },
  "language_info": {
   "codemirror_mode": {
    "name": "ipython",
    "version": 3
   },
   "file_extension": ".py",
   "mimetype": "text/x-python",
   "name": "python",
   "nbconvert_exporter": "python",
   "pygments_lexer": "ipython3",
   "version": "3.11.4"
  },
  "orig_nbformat": 4
 },
 "nbformat": 4,
 "nbformat_minor": 2
}
